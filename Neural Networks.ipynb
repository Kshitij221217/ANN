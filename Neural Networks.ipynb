{
 "cells": [
  {
   "cell_type": "markdown",
   "metadata": {},
   "source": [
    "# Ann(Artificial Neural Network)\n",
    "#Neural Network is used to to minimize loss in machine Learning Model\n",
    "\n",
    "\n",
    "Ann=Artificial Neural Network(ANN) uses the processing of the brain as a basis to develop algorithms that can be used to model complex patterns and prediction problems. ... In our brain, there are billions of cells called neurons, which processes information in the form of electric signal"
   ]
  },
  {
   "cell_type": "code",
   "execution_count": 10,
   "metadata": {},
   "outputs": [
    {
     "data": {
      "text/html": [
       "<div>\n",
       "<style scoped>\n",
       "    .dataframe tbody tr th:only-of-type {\n",
       "        vertical-align: middle;\n",
       "    }\n",
       "\n",
       "    .dataframe tbody tr th {\n",
       "        vertical-align: top;\n",
       "    }\n",
       "\n",
       "    .dataframe thead th {\n",
       "        text-align: right;\n",
       "    }\n",
       "</style>\n",
       "<table border=\"1\" class=\"dataframe\">\n",
       "  <thead>\n",
       "    <tr style=\"text-align: right;\">\n",
       "      <th></th>\n",
       "      <th>RowNumber</th>\n",
       "      <th>CustomerId</th>\n",
       "      <th>Surname</th>\n",
       "      <th>CreditScore</th>\n",
       "      <th>Geography</th>\n",
       "      <th>Gender</th>\n",
       "      <th>Age</th>\n",
       "      <th>Tenure</th>\n",
       "      <th>Balance</th>\n",
       "      <th>NumOfProducts</th>\n",
       "      <th>HasCrCard</th>\n",
       "      <th>IsActiveMember</th>\n",
       "      <th>EstimatedSalary</th>\n",
       "      <th>Exited</th>\n",
       "    </tr>\n",
       "  </thead>\n",
       "  <tbody>\n",
       "    <tr>\n",
       "      <th>0</th>\n",
       "      <td>1</td>\n",
       "      <td>15634602</td>\n",
       "      <td>Hargrave</td>\n",
       "      <td>619</td>\n",
       "      <td>France</td>\n",
       "      <td>Female</td>\n",
       "      <td>42</td>\n",
       "      <td>2</td>\n",
       "      <td>0.00</td>\n",
       "      <td>1</td>\n",
       "      <td>1</td>\n",
       "      <td>1</td>\n",
       "      <td>101348.88</td>\n",
       "      <td>1</td>\n",
       "    </tr>\n",
       "    <tr>\n",
       "      <th>1</th>\n",
       "      <td>2</td>\n",
       "      <td>15647311</td>\n",
       "      <td>Hill</td>\n",
       "      <td>608</td>\n",
       "      <td>Spain</td>\n",
       "      <td>Female</td>\n",
       "      <td>41</td>\n",
       "      <td>1</td>\n",
       "      <td>83807.86</td>\n",
       "      <td>1</td>\n",
       "      <td>0</td>\n",
       "      <td>1</td>\n",
       "      <td>112542.58</td>\n",
       "      <td>0</td>\n",
       "    </tr>\n",
       "    <tr>\n",
       "      <th>2</th>\n",
       "      <td>3</td>\n",
       "      <td>15619304</td>\n",
       "      <td>Onio</td>\n",
       "      <td>502</td>\n",
       "      <td>France</td>\n",
       "      <td>Female</td>\n",
       "      <td>42</td>\n",
       "      <td>8</td>\n",
       "      <td>159660.80</td>\n",
       "      <td>3</td>\n",
       "      <td>1</td>\n",
       "      <td>0</td>\n",
       "      <td>113931.57</td>\n",
       "      <td>1</td>\n",
       "    </tr>\n",
       "    <tr>\n",
       "      <th>3</th>\n",
       "      <td>4</td>\n",
       "      <td>15701354</td>\n",
       "      <td>Boni</td>\n",
       "      <td>699</td>\n",
       "      <td>France</td>\n",
       "      <td>Female</td>\n",
       "      <td>39</td>\n",
       "      <td>1</td>\n",
       "      <td>0.00</td>\n",
       "      <td>2</td>\n",
       "      <td>0</td>\n",
       "      <td>0</td>\n",
       "      <td>93826.63</td>\n",
       "      <td>0</td>\n",
       "    </tr>\n",
       "    <tr>\n",
       "      <th>4</th>\n",
       "      <td>5</td>\n",
       "      <td>15737888</td>\n",
       "      <td>Mitchell</td>\n",
       "      <td>850</td>\n",
       "      <td>Spain</td>\n",
       "      <td>Female</td>\n",
       "      <td>43</td>\n",
       "      <td>2</td>\n",
       "      <td>125510.82</td>\n",
       "      <td>1</td>\n",
       "      <td>1</td>\n",
       "      <td>1</td>\n",
       "      <td>79084.10</td>\n",
       "      <td>0</td>\n",
       "    </tr>\n",
       "  </tbody>\n",
       "</table>\n",
       "</div>"
      ],
      "text/plain": [
       "   RowNumber  CustomerId   Surname  CreditScore Geography  Gender  Age  \\\n",
       "0          1    15634602  Hargrave          619    France  Female   42   \n",
       "1          2    15647311      Hill          608     Spain  Female   41   \n",
       "2          3    15619304      Onio          502    France  Female   42   \n",
       "3          4    15701354      Boni          699    France  Female   39   \n",
       "4          5    15737888  Mitchell          850     Spain  Female   43   \n",
       "\n",
       "   Tenure    Balance  NumOfProducts  HasCrCard  IsActiveMember  \\\n",
       "0       2       0.00              1          1               1   \n",
       "1       1   83807.86              1          0               1   \n",
       "2       8  159660.80              3          1               0   \n",
       "3       1       0.00              2          0               0   \n",
       "4       2  125510.82              1          1               1   \n",
       "\n",
       "   EstimatedSalary  Exited  \n",
       "0        101348.88       1  \n",
       "1        112542.58       0  \n",
       "2        113931.57       1  \n",
       "3         93826.63       0  \n",
       "4         79084.10       0  "
      ]
     },
     "execution_count": 10,
     "metadata": {},
     "output_type": "execute_result"
    }
   ],
   "source": [
    "# Analysing the Data\n",
    "import pandas as pd\n",
    "df=pd.read_csv(\"Churn_Modelling.csv\")\n",
    "df.head()"
   ]
  },
  {
   "cell_type": "code",
   "execution_count": 28,
   "metadata": {},
   "outputs": [
    {
     "name": "stdout",
     "output_type": "stream",
     "text": [
      "(10000, 10)\n",
      "(10000,)\n"
     ]
    }
   ],
   "source": [
    "#Cleaning the data\n",
    "x=df.iloc[:,3:13].values\n",
    "y=df['Exited'].values\n",
    "print(x.shape)\n",
    "print(y.shape)"
   ]
  },
  {
   "cell_type": "code",
   "execution_count": 21,
   "metadata": {},
   "outputs": [],
   "source": [
    "#using Label Encoder\n",
    "from sklearn.preprocessing import LabelEncoder\n",
    "label=LabelEncoder()\n",
    "x[:,1]=label.fit_transform(x[:,1])\n",
    "x[:,2]=label.fit_transform(x[:,2])\n",
    "\n"
   ]
  },
  {
   "cell_type": "code",
   "execution_count": 22,
   "metadata": {},
   "outputs": [],
   "source": [
    "# Train and test\n",
    "from sklearn.model_selection import train_test_split\n",
    "train_x,test_x,train_y,test_y=train_test_split(x,y,test_size=0.2,random_state=0)"
   ]
  },
  {
   "cell_type": "code",
   "execution_count": 23,
   "metadata": {},
   "outputs": [],
   "source": [
    "#using Standar scaler for scaling\n",
    "from sklearn.preprocessing import StandardScaler\n",
    "scaler=StandardScaler()\n",
    "train_X=scaler.fit_transform(train_x)\n",
    "test_X=scaler.fit_transform(test_x)\n"
   ]
  },
  {
   "cell_type": "code",
   "execution_count": 26,
   "metadata": {},
   "outputs": [
    {
     "data": {
      "text/plain": [
       "array([[ 0.16958176,  1.51919821, -1.09168714, ...,  0.64259497,\n",
       "        -1.03227043,  1.10643166],\n",
       "       [-2.30455945,  0.3131264 ,  0.91601335, ...,  0.64259497,\n",
       "         0.9687384 , -0.74866447],\n",
       "       [-1.19119591, -0.89294542, -1.09168714, ...,  0.64259497,\n",
       "        -1.03227043,  1.48533467],\n",
       "       ...,\n",
       "       [ 0.9015152 , -0.89294542,  0.91601335, ...,  0.64259497,\n",
       "        -1.03227043,  1.41231994],\n",
       "       [-0.62420521,  1.51919821, -1.09168714, ...,  0.64259497,\n",
       "         0.9687384 ,  0.84432121],\n",
       "       [-0.28401079,  0.3131264 , -1.09168714, ...,  0.64259497,\n",
       "        -1.03227043,  0.32472465]])"
      ]
     },
     "execution_count": 26,
     "metadata": {},
     "output_type": "execute_result"
    }
   ],
   "source": [
    "train_X"
   ]
  },
  {
   "cell_type": "code",
   "execution_count": 27,
   "metadata": {},
   "outputs": [
    {
     "data": {
      "text/plain": [
       "array([[-0.56129438,  0.28034192, -1.11339196, ...,  0.66011376,\n",
       "         0.97628121,  1.62185911],\n",
       "       [-1.33847768, -0.93853599, -1.11339196, ...,  0.66011376,\n",
       "        -1.02429504,  0.504204  ],\n",
       "       [ 0.58347561,  1.49921982, -1.11339196, ...,  0.66011376,\n",
       "         0.97628121, -0.41865644],\n",
       "       ...,\n",
       "       [-0.76084144,  1.49921982,  0.8981563 , ...,  0.66011376,\n",
       "        -1.02429504,  0.72775202],\n",
       "       [-0.0046631 ,  0.28034192,  0.8981563 , ...,  0.66011376,\n",
       "         0.97628121, -1.54162886],\n",
       "       [-0.81335383,  0.28034192,  0.8981563 , ...,  0.66011376,\n",
       "        -1.02429504,  1.62356528]])"
      ]
     },
     "execution_count": 27,
     "metadata": {},
     "output_type": "execute_result"
    }
   ],
   "source": [
    "test_X\n"
   ]
  },
  {
   "cell_type": "code",
   "execution_count": 2,
   "metadata": {},
   "outputs": [],
   "source": [
    "from tensorflow import keras\n",
    "from keras.models import Sequential\n",
    "from keras.layers import Dense"
   ]
  },
  {
   "cell_type": "code",
   "execution_count": 7,
   "metadata": {},
   "outputs": [],
   "source": [
    "#creating ann model\n",
    "model=Sequential()\n",
    "#add first hidden Layer\n",
    "model.add(Dense(units=8,activation=\"sigmoid\",kernel_initializer=\"uniform\",input_dim=10))\n",
    "#add second hidden layer\n",
    "model.add(Dense(units=6,activation=\"relu\",kernel_initializer=\"he_normal\"))\n",
    "#add third hidden layer\n",
    "model.add(Dense(units=4,activation=\"relu\",kernel_initializer=\"he_uniform\"))\n",
    "#output layer\n",
    "model.add(Dense(units=1,activation=\"sigmoid\",kernel_initializer=\"uniform\"))\n",
    "\n",
    "#compiling the model\n",
    "model.compile(optimizer='adam',\n",
    "    loss=\"binary_crossentropy\",\n",
    "    metrics=[\"accuracy\"])\n",
    "\n",
    "\n",
    "\n"
   ]
  },
  {
   "cell_type": "code",
   "execution_count": 29,
   "metadata": {},
   "outputs": [
    {
     "name": "stdout",
     "output_type": "stream",
     "text": [
      "Epoch 1/100\n",
      "  1/800 [..............................] - ETA: 0s - loss: 0.6898 - accuracy: 0.8000WARNING:tensorflow:Callbacks method `on_train_batch_end` is slow compared to the batch time (batch time: 0.0000s vs `on_train_batch_end` time: 0.0037s). Check your callbacks.\n",
      "800/800 [==============================] - 2s 2ms/step - loss: 0.4942 - accuracy: 0.7960\n",
      "Epoch 2/100\n",
      "800/800 [==============================] - 1s 2ms/step - loss: 0.4379 - accuracy: 0.8001\n",
      "Epoch 3/100\n",
      "800/800 [==============================] - 1s 2ms/step - loss: 0.4349 - accuracy: 0.8018\n",
      "Epoch 4/100\n",
      "800/800 [==============================] - 2s 2ms/step - loss: 0.4344 - accuracy: 0.7987\n",
      "Epoch 5/100\n",
      "800/800 [==============================] - 1s 2ms/step - loss: 0.4338 - accuracy: 0.7997\n",
      "Epoch 6/100\n",
      "800/800 [==============================] - 2s 2ms/step - loss: 0.4332 - accuracy: 0.7987\n",
      "Epoch 7/100\n",
      "800/800 [==============================] - 1s 2ms/step - loss: 0.4331 - accuracy: 0.8024\n",
      "Epoch 8/100\n",
      "800/800 [==============================] - ETA: 0s - loss: 0.4336 - accuracy: 0.80 - 2s 2ms/step - loss: 0.4330 - accuracy: 0.8035\n",
      "Epoch 9/100\n",
      "800/800 [==============================] - 1s 2ms/step - loss: 0.4324 - accuracy: 0.8044\n",
      "Epoch 10/100\n",
      "800/800 [==============================] - 1s 1ms/step - loss: 0.4317 - accuracy: 0.8098\n",
      "Epoch 11/100\n",
      "800/800 [==============================] - 1s 1ms/step - loss: 0.4300 - accuracy: 0.8209\n",
      "Epoch 12/100\n",
      "800/800 [==============================] - 1s 1ms/step - loss: 0.4268 - accuracy: 0.8279\n",
      "Epoch 13/100\n",
      "800/800 [==============================] - 1s 2ms/step - loss: 0.4208 - accuracy: 0.8326\n",
      "Epoch 14/100\n",
      "800/800 [==============================] - 1s 1ms/step - loss: 0.4137 - accuracy: 0.8320\n",
      "Epoch 15/100\n",
      "800/800 [==============================] - 1s 2ms/step - loss: 0.4104 - accuracy: 0.8340\n",
      "Epoch 16/100\n",
      "800/800 [==============================] - 1s 2ms/step - loss: 0.4077 - accuracy: 0.8349\n",
      "Epoch 17/100\n",
      "800/800 [==============================] - 2s 2ms/step - loss: 0.4064 - accuracy: 0.8331\n",
      "Epoch 18/100\n",
      "800/800 [==============================] - 1s 2ms/step - loss: 0.4059 - accuracy: 0.8339\n",
      "Epoch 19/100\n",
      "800/800 [==============================] - 2s 2ms/step - loss: 0.4051 - accuracy: 0.8340\n",
      "Epoch 20/100\n",
      "800/800 [==============================] - 2s 2ms/step - loss: 0.4048 - accuracy: 0.8351\n",
      "Epoch 21/100\n",
      "800/800 [==============================] - 2s 2ms/step - loss: 0.4047 - accuracy: 0.8341\n",
      "Epoch 22/100\n",
      "800/800 [==============================] - 2s 2ms/step - loss: 0.4039 - accuracy: 0.8341\n",
      "Epoch 23/100\n",
      "800/800 [==============================] - 2s 2ms/step - loss: 0.4036 - accuracy: 0.8336\n",
      "Epoch 24/100\n",
      "800/800 [==============================] - 2s 2ms/step - loss: 0.4038 - accuracy: 0.8338\n",
      "Epoch 25/100\n",
      "800/800 [==============================] - 2s 2ms/step - loss: 0.4034 - accuracy: 0.8330\n",
      "Epoch 26/100\n",
      "800/800 [==============================] - 2s 2ms/step - loss: 0.4032 - accuracy: 0.8350\n",
      "Epoch 27/100\n",
      "800/800 [==============================] - 2s 2ms/step - loss: 0.4031 - accuracy: 0.8342\n",
      "Epoch 28/100\n",
      "800/800 [==============================] - 2s 2ms/step - loss: 0.4025 - accuracy: 0.8347\n",
      "Epoch 29/100\n",
      "800/800 [==============================] - 1s 2ms/step - loss: 0.4027 - accuracy: 0.8342\n",
      "Epoch 30/100\n",
      "800/800 [==============================] - 2s 2ms/step - loss: 0.4024 - accuracy: 0.8344\n",
      "Epoch 31/100\n",
      "800/800 [==============================] - 2s 2ms/step - loss: 0.4019 - accuracy: 0.8347\n",
      "Epoch 32/100\n",
      "800/800 [==============================] - 2s 2ms/step - loss: 0.4015 - accuracy: 0.8359\n",
      "Epoch 33/100\n",
      "800/800 [==============================] - 2s 2ms/step - loss: 0.4013 - accuracy: 0.8340\n",
      "Epoch 34/100\n",
      "800/800 [==============================] - 2s 2ms/step - loss: 0.4010 - accuracy: 0.8346\n",
      "Epoch 35/100\n",
      "800/800 [==============================] - 2s 2ms/step - loss: 0.4004 - accuracy: 0.8340\n",
      "Epoch 36/100\n",
      "800/800 [==============================] - ETA: 0s - loss: 0.3995 - accuracy: 0.83 - 2s 2ms/step - loss: 0.4001 - accuracy: 0.8350\n",
      "Epoch 37/100\n",
      "800/800 [==============================] - 2s 2ms/step - loss: 0.3999 - accuracy: 0.8355\n",
      "Epoch 38/100\n",
      "800/800 [==============================] - 2s 2ms/step - loss: 0.3993 - accuracy: 0.8356\n",
      "Epoch 39/100\n",
      "800/800 [==============================] - 2s 2ms/step - loss: 0.3986 - accuracy: 0.8342\n",
      "Epoch 40/100\n",
      "800/800 [==============================] - 1s 2ms/step - loss: 0.3975 - accuracy: 0.8353\n",
      "Epoch 41/100\n",
      "800/800 [==============================] - 1s 1ms/step - loss: 0.3969 - accuracy: 0.8347\n",
      "Epoch 42/100\n",
      "800/800 [==============================] - 2s 2ms/step - loss: 0.3950 - accuracy: 0.8345\n",
      "Epoch 43/100\n",
      "800/800 [==============================] - 2s 2ms/step - loss: 0.3941 - accuracy: 0.8356\n",
      "Epoch 44/100\n",
      "800/800 [==============================] - 1s 2ms/step - loss: 0.3920 - accuracy: 0.8361\n",
      "Epoch 45/100\n",
      "800/800 [==============================] - 1s 2ms/step - loss: 0.3897 - accuracy: 0.8369\n",
      "Epoch 46/100\n",
      "800/800 [==============================] - 2s 2ms/step - loss: 0.3875 - accuracy: 0.8374\n",
      "Epoch 47/100\n",
      "800/800 [==============================] - 2s 2ms/step - loss: 0.3847 - accuracy: 0.8381\n",
      "Epoch 48/100\n",
      "800/800 [==============================] - 1s 2ms/step - loss: 0.3812 - accuracy: 0.8405\n",
      "Epoch 49/100\n",
      "800/800 [==============================] - 1s 2ms/step - loss: 0.3776 - accuracy: 0.8415\n",
      "Epoch 50/100\n",
      "800/800 [==============================] - 1s 2ms/step - loss: 0.3731 - accuracy: 0.8436\n",
      "Epoch 51/100\n",
      "800/800 [==============================] - 2s 3ms/step - loss: 0.3688 - accuracy: 0.8480\n",
      "Epoch 52/100\n",
      "800/800 [==============================] - 1s 2ms/step - loss: 0.3651 - accuracy: 0.8475\n",
      "Epoch 53/100\n",
      "800/800 [==============================] - 2s 2ms/step - loss: 0.3606 - accuracy: 0.8504\n",
      "Epoch 54/100\n",
      "800/800 [==============================] - 1s 2ms/step - loss: 0.3572 - accuracy: 0.8535\n",
      "Epoch 55/100\n",
      "800/800 [==============================] - 1s 2ms/step - loss: 0.3543 - accuracy: 0.8536\n",
      "Epoch 56/100\n",
      "800/800 [==============================] - 1s 2ms/step - loss: 0.3528 - accuracy: 0.8537\n",
      "Epoch 57/100\n",
      "800/800 [==============================] - 1s 2ms/step - loss: 0.3507 - accuracy: 0.8533\n",
      "Epoch 58/100\n",
      "800/800 [==============================] - 1s 2ms/step - loss: 0.3502 - accuracy: 0.8537\n",
      "Epoch 59/100\n",
      "800/800 [==============================] - 1s 2ms/step - loss: 0.3487 - accuracy: 0.8533\n",
      "Epoch 60/100\n",
      "800/800 [==============================] - ETA: 0s - loss: 0.3477 - accuracy: 0.85 - 1s 2ms/step - loss: 0.3488 - accuracy: 0.8550\n",
      "Epoch 61/100\n",
      "800/800 [==============================] - 1s 2ms/step - loss: 0.3472 - accuracy: 0.8556\n",
      "Epoch 62/100\n",
      "800/800 [==============================] - 1s 2ms/step - loss: 0.3477 - accuracy: 0.8549\n",
      "Epoch 63/100\n",
      "800/800 [==============================] - 1s 2ms/step - loss: 0.3475 - accuracy: 0.8570\n",
      "Epoch 64/100\n",
      "800/800 [==============================] - 1s 2ms/step - loss: 0.3468 - accuracy: 0.8568\n",
      "Epoch 65/100\n",
      "800/800 [==============================] - 2s 2ms/step - loss: 0.3468 - accuracy: 0.8576\n",
      "Epoch 66/100\n",
      "800/800 [==============================] - 2s 2ms/step - loss: 0.3460 - accuracy: 0.8544\n",
      "Epoch 67/100\n",
      "800/800 [==============================] - 2s 2ms/step - loss: 0.3462 - accuracy: 0.8565\n",
      "Epoch 68/100\n",
      "800/800 [==============================] - 2s 2ms/step - loss: 0.3453 - accuracy: 0.8549\n",
      "Epoch 69/100\n",
      "800/800 [==============================] - 2s 2ms/step - loss: 0.3447 - accuracy: 0.8579\n",
      "Epoch 70/100\n",
      "800/800 [==============================] - 2s 2ms/step - loss: 0.3443 - accuracy: 0.8574\n",
      "Epoch 71/100\n",
      "800/800 [==============================] - 2s 2ms/step - loss: 0.3446 - accuracy: 0.8565\n",
      "Epoch 72/100\n",
      "800/800 [==============================] - ETA: 0s - loss: 0.3451 - accuracy: 0.85 - 2s 2ms/step - loss: 0.3450 - accuracy: 0.8564\n",
      "Epoch 73/100\n",
      "800/800 [==============================] - 1s 2ms/step - loss: 0.3455 - accuracy: 0.8553\n",
      "Epoch 74/100\n",
      "800/800 [==============================] - 1s 2ms/step - loss: 0.3440 - accuracy: 0.8581\n",
      "Epoch 75/100\n",
      "800/800 [==============================] - 1s 1ms/step - loss: 0.3436 - accuracy: 0.8575\n",
      "Epoch 76/100\n",
      "800/800 [==============================] - 1s 1ms/step - loss: 0.3440 - accuracy: 0.8579\n",
      "Epoch 77/100\n"
     ]
    },
    {
     "name": "stdout",
     "output_type": "stream",
     "text": [
      "800/800 [==============================] - 2s 2ms/step - loss: 0.3436 - accuracy: 0.8579\n",
      "Epoch 78/100\n",
      "800/800 [==============================] - 2s 2ms/step - loss: 0.3424 - accuracy: 0.8602\n",
      "Epoch 79/100\n",
      "800/800 [==============================] - 2s 2ms/step - loss: 0.3430 - accuracy: 0.8564\n",
      "Epoch 80/100\n",
      "800/800 [==============================] - 2s 2ms/step - loss: 0.3428 - accuracy: 0.8576\n",
      "Epoch 81/100\n",
      "800/800 [==============================] - 2s 3ms/step - loss: 0.3423 - accuracy: 0.8568\n",
      "Epoch 82/100\n",
      "800/800 [==============================] - 2s 2ms/step - loss: 0.3421 - accuracy: 0.8585\n",
      "Epoch 83/100\n",
      "800/800 [==============================] - 2s 3ms/step - loss: 0.3411 - accuracy: 0.8574\n",
      "Epoch 84/100\n",
      "800/800 [==============================] - 2s 3ms/step - loss: 0.3415 - accuracy: 0.8610\n",
      "Epoch 85/100\n",
      "800/800 [==============================] - 2s 2ms/step - loss: 0.3414 - accuracy: 0.8575\n",
      "Epoch 86/100\n",
      "800/800 [==============================] - 2s 2ms/step - loss: 0.3416 - accuracy: 0.8599\n",
      "Epoch 87/100\n",
      "800/800 [==============================] - 2s 2ms/step - loss: 0.3410 - accuracy: 0.8585\n",
      "Epoch 88/100\n",
      "800/800 [==============================] - 2s 3ms/step - loss: 0.3403 - accuracy: 0.8606\n",
      "Epoch 89/100\n",
      "800/800 [==============================] - 2s 2ms/step - loss: 0.3407 - accuracy: 0.8580\n",
      "Epoch 90/100\n",
      "800/800 [==============================] - 2s 2ms/step - loss: 0.3404 - accuracy: 0.8606\n",
      "Epoch 91/100\n",
      "800/800 [==============================] - ETA: 0s - loss: 0.3409 - accuracy: 0.85 - 2s 2ms/step - loss: 0.3407 - accuracy: 0.8590\n",
      "Epoch 92/100\n",
      "800/800 [==============================] - 1s 2ms/step - loss: 0.3405 - accuracy: 0.8610\n",
      "Epoch 93/100\n",
      "800/800 [==============================] - 1s 2ms/step - loss: 0.3396 - accuracy: 0.8597\n",
      "Epoch 94/100\n",
      "800/800 [==============================] - 2s 2ms/step - loss: 0.3395 - accuracy: 0.8599\n",
      "Epoch 95/100\n",
      "800/800 [==============================] - 2s 2ms/step - loss: 0.3384 - accuracy: 0.8599\n",
      "Epoch 96/100\n",
      "800/800 [==============================] - 2s 2ms/step - loss: 0.3394 - accuracy: 0.8604\n",
      "Epoch 97/100\n",
      "800/800 [==============================] - 2s 2ms/step - loss: 0.3388 - accuracy: 0.8595\n",
      "Epoch 98/100\n",
      "800/800 [==============================] - 2s 2ms/step - loss: 0.3381 - accuracy: 0.8616\n",
      "Epoch 99/100\n",
      "800/800 [==============================] - 2s 2ms/step - loss: 0.3387 - accuracy: 0.8594\n",
      "Epoch 100/100\n",
      "800/800 [==============================] - 2s 2ms/step - loss: 0.3380 - accuracy: 0.8604\n"
     ]
    },
    {
     "data": {
      "text/plain": [
       "<tensorflow.python.keras.callbacks.History at 0x2012d16cd88>"
      ]
     },
     "execution_count": 29,
     "metadata": {},
     "output_type": "execute_result"
    }
   ],
   "source": [
    "#training the data\n",
    "model.fit( x=train_X,\n",
    "    y=train_y,\n",
    "    batch_size=10,\n",
    "    epochs=100,\n",
    "    verbose=1)"
   ]
  },
  {
   "cell_type": "code",
   "execution_count": 39,
   "metadata": {},
   "outputs": [
    {
     "name": "stdout",
     "output_type": "stream",
     "text": [
      "[[False]\n",
      " [False]\n",
      " [False]\n",
      " ...\n",
      " [False]\n",
      " [False]\n",
      " [False]]\n"
     ]
    }
   ],
   "source": [
    "#prediction \n",
    "pred_y=(model.predict(test_X)>0.5)\n",
    "print(model.predict(test_X)>0.5)"
   ]
  },
  {
   "cell_type": "code",
   "execution_count": 40,
   "metadata": {},
   "outputs": [
    {
     "name": "stdout",
     "output_type": "stream",
     "text": [
      "predicted-No predicted-Yes\n"
     ]
    },
    {
     "data": {
      "text/plain": [
       "array([[1542,   53],\n",
       "       [ 227,  178]], dtype=int64)"
      ]
     },
     "execution_count": 40,
     "metadata": {},
     "output_type": "execute_result"
    }
   ],
   "source": [
    "#using confusion matrix for analysing the prediction\n",
    "from sklearn.metrics import confusion_matrix\n",
    "print(\"predicted-No\",\"predicted-Yes\")\n",
    "confusion_matrix(test_y,pred_y)\n",
    "\n"
   ]
  },
  {
   "cell_type": "code",
   "execution_count": null,
   "metadata": {},
   "outputs": [],
   "source": []
  }
 ],
 "metadata": {
  "kernelspec": {
   "display_name": "Python 3",
   "language": "python",
   "name": "python3"
  },
  "language_info": {
   "codemirror_mode": {
    "name": "ipython",
    "version": 3
   },
   "file_extension": ".py",
   "mimetype": "text/x-python",
   "name": "python",
   "nbconvert_exporter": "python",
   "pygments_lexer": "ipython3",
   "version": "3.7.10"
  }
 },
 "nbformat": 4,
 "nbformat_minor": 4
}
